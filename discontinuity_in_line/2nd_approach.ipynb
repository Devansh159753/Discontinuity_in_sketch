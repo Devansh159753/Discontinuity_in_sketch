{
 "cells": [
  {
   "cell_type": "code",
   "execution_count": 47,
   "metadata": {},
   "outputs": [],
   "source": [
    "import cv2\n",
    "import numpy as np\n",
    "import matplotlib.pyplot as plt\n",
    "from random import randint"
   ]
  },
  {
   "cell_type": "code",
   "execution_count": 48,
   "metadata": {},
   "outputs": [],
   "source": [
    "def color():\n",
    "    return (randint(0,255), randint(0,255), randint(0,255))"
   ]
  },
  {
   "cell_type": "code",
   "execution_count": 53,
   "metadata": {},
   "outputs": [],
   "source": [
    "img = cv2.imread('th1.jpg',0)\n",
    "edges = cv2.Canny(img,100,200)"
   ]
  },
  {
   "cell_type": "code",
   "execution_count": 54,
   "metadata": {},
   "outputs": [
    {
     "data": {
      "text/plain": [
       "True"
      ]
     },
     "execution_count": 54,
     "metadata": {},
     "output_type": "execute_result"
    }
   ],
   "source": [
    "cv2.imwrite('edges.jpg', edges)"
   ]
  },
  {
   "cell_type": "code",
   "execution_count": 51,
   "metadata": {},
   "outputs": [],
   "source": [
    "ret,th1 = cv2.threshold(img,127,255,cv2.THRESH_BINARY)\n",
    "th2 = cv2.adaptiveThreshold(img,255,cv2.ADAPTIVE_THRESH_MEAN_C,\\\n",
    "            cv2.THRESH_BINARY,11,2)\n",
    "th3 = cv2.adaptiveThreshold(img,255,cv2.ADAPTIVE_THRESH_GAUSSIAN_C,\\\n",
    "            cv2.THRESH_BINARY,11,2)"
   ]
  },
  {
   "cell_type": "code",
   "execution_count": 52,
   "metadata": {},
   "outputs": [
    {
     "data": {
      "text/plain": [
       "True"
      ]
     },
     "execution_count": 52,
     "metadata": {},
     "output_type": "execute_result"
    }
   ],
   "source": [
    "cv2.imwrite('th1.jpg', th1)"
   ]
  },
  {
   "cell_type": "code",
   "execution_count": 7,
   "metadata": {},
   "outputs": [],
   "source": [
    "# getting mask with connectComponents\n",
    "ret, labels = cv2.connectedComponents(th1)\n",
    "for label in range(1,ret):\n",
    "    mask = np.array(labels, dtype=np.uint8)\n",
    "    mask[labels == label] = 255"
   ]
  },
  {
   "cell_type": "code",
   "execution_count": 8,
   "metadata": {},
   "outputs": [
    {
     "data": {
      "text/plain": [
       "True"
      ]
     },
     "execution_count": 8,
     "metadata": {},
     "output_type": "execute_result"
    }
   ],
   "source": [
    "cv2.imwrite('mask.jpg', mask)"
   ]
  },
  {
   "cell_type": "code",
   "execution_count": 9,
   "metadata": {},
   "outputs": [
    {
     "data": {
      "text/plain": [
       "3378"
      ]
     },
     "execution_count": 9,
     "metadata": {},
     "output_type": "execute_result"
    }
   ],
   "source": [
    "len(mask)"
   ]
  },
  {
   "cell_type": "code",
   "execution_count": 10,
   "metadata": {},
   "outputs": [
    {
     "name": "stdout",
     "output_type": "stream",
     "text": [
      "True\n"
     ]
    }
   ],
   "source": [
    "if labels[1006].all()==labels[100].all():\n",
    "    print(True)"
   ]
  },
  {
   "cell_type": "code",
   "execution_count": 11,
   "metadata": {},
   "outputs": [
    {
     "data": {
      "text/plain": [
       "array([[0, 0, 0, ..., 1, 1, 1],\n",
       "       [0, 0, 0, ..., 1, 1, 1],\n",
       "       [0, 0, 0, ..., 1, 1, 1],\n",
       "       ...,\n",
       "       [0, 0, 0, ..., 1, 1, 1],\n",
       "       [0, 0, 0, ..., 1, 1, 1],\n",
       "       [0, 0, 0, ..., 1, 1, 1]], dtype=int32)"
      ]
     },
     "execution_count": 11,
     "metadata": {},
     "output_type": "execute_result"
    }
   ],
   "source": [
    "labels"
   ]
  },
  {
   "cell_type": "code",
   "execution_count": 12,
   "metadata": {},
   "outputs": [],
   "source": [
    "mat = np.asarray(labels)"
   ]
  },
  {
   "cell_type": "code",
   "execution_count": 11,
   "metadata": {},
   "outputs": [],
   "source": [
    "arr = np.zeros((3378, 5200))"
   ]
  },
  {
   "cell_type": "code",
   "execution_count": 133,
   "metadata": {},
   "outputs": [
    {
     "name": "stdout",
     "output_type": "stream",
     "text": [
      "0\n",
      "255\n"
     ]
    }
   ],
   "source": [
    "for i in range(0,1):\n",
    "    b = np.where(mat == i)\n",
    "    if len(b[0])==0 or len(b[1])==0 or len(b[0])!=len(b[1]):\n",
    "        continue\n",
    "    c = 255\n",
    "    for j in range(len(b[1])):\n",
    "        arr[b[0][j]][b[1][j]] = c\n",
    "    print(i)\n",
    "    print(c)"
   ]
  },
  {
   "cell_type": "code",
   "execution_count": 37,
   "metadata": {},
   "outputs": [
    {
     "data": {
      "text/plain": [
       "(array([1067, 1067, 1068, 1068, 1069, 1069, 1070, 1070, 1071, 1071],\n",
       "       dtype=int64),\n",
       " array([3667, 3668, 3667, 3668, 3667, 3668, 3667, 3668, 3667, 3668],\n",
       "       dtype=int64))"
      ]
     },
     "execution_count": 37,
     "metadata": {},
     "output_type": "execute_result"
    }
   ],
   "source": [
    "np.where(mat == 9)"
   ]
  },
  {
   "cell_type": "code",
   "execution_count": 39,
   "metadata": {},
   "outputs": [
    {
     "data": {
      "text/plain": [
       "9"
      ]
     },
     "execution_count": 39,
     "metadata": {},
     "output_type": "execute_result"
    }
   ],
   "source": [
    "mat[1067][3668]"
   ]
  },
  {
   "cell_type": "code",
   "execution_count": 74,
   "metadata": {},
   "outputs": [],
   "source": [
    "img[0][0]= 180"
   ]
  },
  {
   "cell_type": "code",
   "execution_count": 134,
   "metadata": {},
   "outputs": [
    {
     "data": {
      "text/plain": [
       "True"
      ]
     },
     "execution_count": 134,
     "metadata": {},
     "output_type": "execute_result"
    }
   ],
   "source": [
    "cv2.imwrite('new_img.jpg', arr)"
   ]
  },
  {
   "cell_type": "code",
   "execution_count": 77,
   "metadata": {},
   "outputs": [
    {
     "data": {
      "text/plain": [
       "array([[124, 124, 124, ...,  47,  47,  47],\n",
       "       [124, 124, 124, ...,  47,  47,  47],\n",
       "       [124, 124, 124, ...,  47,  47,  47],\n",
       "       ...,\n",
       "       [124, 124, 124, ...,  47,  47,  47],\n",
       "       [124, 124, 124, ...,  47,  47,  47],\n",
       "       [124, 124, 124, ...,  47,  47,  47]], dtype=uint8)"
      ]
     },
     "execution_count": 77,
     "metadata": {},
     "output_type": "execute_result"
    }
   ],
   "source": [
    "img"
   ]
  },
  {
   "cell_type": "code",
   "execution_count": 99,
   "metadata": {},
   "outputs": [],
   "source": [
    "b = np.where(mat == 9)"
   ]
  },
  {
   "cell_type": "code",
   "execution_count": 100,
   "metadata": {},
   "outputs": [],
   "source": [
    "ans = []\n",
    "for i in range(len(b[0])):\n",
    "    ans.append((b[0][i], b[1][i]))"
   ]
  },
  {
   "cell_type": "code",
   "execution_count": 101,
   "metadata": {},
   "outputs": [
    {
     "name": "stdout",
     "output_type": "stream",
     "text": [
      "0 9\n",
      "[Segment(Point(1067, 3667), Point(0, 0), Point(0.0, 1.6836738496567705)), Segment(Point(1071, 3668), Point(0.0, -1.6836738496563157), Point(0, 0))]\n",
      "M 1067,3667 C 1067,3668.68 1071,3666.32 1071,3668\n"
     ]
    }
   ],
   "source": [
    "import math\n",
    "\n",
    "TOLERANCE = 10e-6\n",
    "EPSILON = 10e-12\n",
    "\n",
    "\n",
    "class Point:\n",
    "    __slots__ = ['x', 'y']\n",
    "\n",
    "    def __init__(self, x, y=None):\n",
    "        if y is None:\n",
    "            self.x, self.y = x[0], x[1]\n",
    "        else:\n",
    "            self.x, self.y = x, y\n",
    "\n",
    "    def __repr__(self):\n",
    "        return 'Point(%r, %r)' % (self.x, self.y)\n",
    "\n",
    "    def __str__(self):\n",
    "        return '%G,%G' % (self.x, self.y)\n",
    "\n",
    "    def __complex__(self):\n",
    "        return complex(self.x, self.y)\n",
    "\n",
    "    def __hash__(self):\n",
    "        return hash(self.__complex__())\n",
    "\n",
    "    def __bool__(self):\n",
    "        return bool(self.x or self.y)\n",
    "\n",
    "    def __add__(self, other):\n",
    "        if isinstance(other, Point):\n",
    "            return Point(self.x + other.x, self.y + other.y)\n",
    "        else:\n",
    "            return Point(self.x + other, self.y + other)\n",
    "\n",
    "    def __sub__(self, other):\n",
    "        if isinstance(other, Point):\n",
    "            return Point(self.x - other.x, self.y - other.y)\n",
    "        else:\n",
    "            return Point(self.x - other, self.y - other)\n",
    "\n",
    "    def __mul__(self, other):\n",
    "        if isinstance(other, Point):\n",
    "            return Point(self.x * other.x, self.y * other.y)\n",
    "        else:\n",
    "            return Point(self.x * other, self.y * other)\n",
    "\n",
    "    def __truediv__(self, other):\n",
    "        if isinstance(other, Point):\n",
    "            return Point(self.x / other.x, self.y / other.y)\n",
    "        else:\n",
    "            return Point(self.x / other, self.y / other)\n",
    "\n",
    "    def __neg__(self):\n",
    "        return Point(-self.x, -self.y)\n",
    "\n",
    "    def __len__(self):\n",
    "        return math.hypot(self.x, self.y)\n",
    "\n",
    "    def __eq__(self, other):\n",
    "        try:\n",
    "            return self.x == other.x and self.y == other.y\n",
    "        except Exception:\n",
    "            return False\n",
    "\n",
    "    def __ne__(self, other):\n",
    "        try:\n",
    "            return self.x != other.x or self.y != other.y\n",
    "        except Exception:\n",
    "            return True\n",
    "\n",
    "    add = __add__\n",
    "    subtract = __sub__\n",
    "    multiply = __mul__\n",
    "    divide = __truediv__\n",
    "    negate = __neg__\n",
    "    getLength = __len__\n",
    "    equals = __eq__\n",
    "\n",
    "    def copy(self):\n",
    "        return Point(self.x, self.y)\n",
    "\n",
    "    def dot(self, other):\n",
    "        return self.x * other.x + self.y * other.y\n",
    "\n",
    "    def normalize(self, length=1):\n",
    "        current = self.__len__()\n",
    "        scale = length / current if current != 0 else 0\n",
    "        return Point(self.x * scale, self.y * scale)\n",
    "\n",
    "    def getDistance(self, other):\n",
    "        return math.hypot(self.x - other.x, self.y - other.y)\n",
    "\n",
    "\n",
    "class Segment:\n",
    "\n",
    "    def __init__(self, *args):\n",
    "        self.point = Point(0, 0)\n",
    "        self.handleIn = Point(0, 0)\n",
    "        self.handleOut = Point(0, 0)\n",
    "        if len(args) == 1:\n",
    "            if isinstance(args[0], Segment):\n",
    "                self.point = args[0].point\n",
    "                self.handleIn = args[0].handleIn\n",
    "                self.handleOut = args[0].handleOut\n",
    "            else:\n",
    "                self.point = args[0]\n",
    "        elif len(args) == 2 and isinstance(args[0], (int, float)):\n",
    "            self.point = Point(*args)\n",
    "        elif len(args) == 2:\n",
    "            self.point = args[0]\n",
    "            self.handleIn = args[1]\n",
    "        elif len(args) == 3:\n",
    "            self.point = args[0]\n",
    "            self.handleIn = args[1]\n",
    "            self.handleOut = args[2]\n",
    "        else:\n",
    "            self.point = Point(args[0], args[1])\n",
    "            self.handleIn = Point(args[2], args[3])\n",
    "            self.handleOut = Point(args[4], args[5])\n",
    "\n",
    "    def __repr__(self):\n",
    "        return 'Segment(%r, %r, %r)' % (self.point, self.handleIn, self.handleOut)\n",
    "\n",
    "    def __hash__(self):\n",
    "        return hash((self.point, self.handleIn, self.handleOut))\n",
    "\n",
    "    def __bool__(self):\n",
    "        return bool(self.point or self.handleIn or self.handleOut)\n",
    "\n",
    "    def getPoint(self):\n",
    "        return self.point\n",
    "\n",
    "    def setPoint(self, other):\n",
    "        self.point = other\n",
    "\n",
    "    def getHandleIn(self):\n",
    "        return self.handleIn\n",
    "\n",
    "    def setHandleIn(self, other):\n",
    "        self.handleIn = other\n",
    "\n",
    "    def getHandleOut(self):\n",
    "        return self.handleOut\n",
    "\n",
    "    def setHandleOut(self, other):\n",
    "        self.handleOut = other\n",
    "\n",
    "\n",
    "class PathFitter:\n",
    "\n",
    "    def __init__(self, segments, error=2.5):\n",
    "        self.points = []\n",
    "        # Copy over points from path and filter out adjacent duplicates.\n",
    "        l = len(segments)\n",
    "        prev = None\n",
    "        for i in range(l):\n",
    "            point = segments[i].point.copy()\n",
    "            if prev != point:\n",
    "                self.points.append(point)\n",
    "                prev = point\n",
    "        self.error = error\n",
    "\n",
    "    def fit(self):\n",
    "        points = self.points\n",
    "        length = len(points)\n",
    "        self.segments = [Segment(points[0])] if length > 0 else []\n",
    "        if length > 1:\n",
    "            self.fitCubic(0, length - 1,\n",
    "                          # Left Tangent\n",
    "                          points[1].subtract(points[0]).normalize(),\n",
    "                          # Right Tangent\n",
    "                          points[length - 2].subtract(points[length - 1]).normalize())\n",
    "        return self.segments\n",
    "\n",
    "    # Fit a Bezier curve to a (sub)set of digitized points\n",
    "    def fitCubic(self, first, last, tan1, tan2):\n",
    "        #  Use heuristic if region only has two points in it\n",
    "        if last - first == 1:\n",
    "            pt1 = self.points[first]\n",
    "            pt2 = self.points[last]\n",
    "            dist = pt1.getDistance(pt2) / 3\n",
    "            self.addCurve([pt1, pt1 + tan1.normalize(dist),\n",
    "                           pt2 + tan2.normalize(dist), pt2])\n",
    "            return\n",
    "        # Parameterize points, and attempt to fit curve\n",
    "        uPrime = self.chordLengthParameterize(first, last)\n",
    "        maxError = max(self.error, self.error * self.error)\n",
    "        # Try 4 iterations\n",
    "        for i in range(5):\n",
    "            curve = self.generateBezier(first, last, uPrime, tan1, tan2)\n",
    "            #  Find max deviation of points to fitted curve\n",
    "            maxerr, maxind = self.findMaxError(first, last, curve, uPrime)\n",
    "            if maxerr < self.error:\n",
    "                self.addCurve(curve)\n",
    "                return\n",
    "            split = maxind\n",
    "            # If error not too large, try reparameterization and iteration\n",
    "            if maxerr >= maxError:\n",
    "                break\n",
    "            self.reparameterize(first, last, uPrime, curve)\n",
    "            maxError = maxerr\n",
    "        # Fitting failed -- split at max error point and fit recursively\n",
    "        V1 = self.points[split - 1].subtract(self.points[split])\n",
    "        V2 = self.points[split] - self.points[split + 1]\n",
    "        tanCenter = V1.add(V2).divide(2).normalize()\n",
    "        self.fitCubic(first, split, tan1, tanCenter)\n",
    "        self.fitCubic(split, last, tanCenter.negate(), tan2)\n",
    "\n",
    "    def addCurve(self, curve):\n",
    "        prev = self.segments[len(self.segments) - 1]\n",
    "        prev.setHandleOut(curve[1].subtract(curve[0]))\n",
    "        self.segments.append(\n",
    "            Segment(curve[3], curve[2].subtract(curve[3])))\n",
    "\n",
    "    # Use least-squares method to find Bezier control points for region.\n",
    "    def generateBezier(self, first, last, uPrime, tan1, tan2):\n",
    "        epsilon = 1e-11\n",
    "        pt1 = self.points[first]\n",
    "        pt2 = self.points[last]\n",
    "        # Create the C and X matrices\n",
    "        C = [[0, 0], [0, 0]]\n",
    "        X = [0, 0]\n",
    "\n",
    "        l = last - first + 1\n",
    "\n",
    "        for i in range(l):\n",
    "            u = uPrime[i]\n",
    "            t = 1 - u\n",
    "            b = 3 * u * t\n",
    "            b0 = t * t * t\n",
    "            b1 = b * t\n",
    "            b2 = b * u\n",
    "            b3 = u * u * u\n",
    "            a1 = tan1.normalize(b1)\n",
    "            a2 = tan2.normalize(b2)\n",
    "            tmp = (self.points[first + i]\n",
    "                   - pt1.multiply(b0 + b1)\n",
    "                   - pt2.multiply(b2 + b3))\n",
    "            C[0][0] += a1.dot(a1)\n",
    "            C[0][1] += a1.dot(a2)\n",
    "            # C[1][0] += a1.dot(a2)\n",
    "            C[1][0] = C[0][1]\n",
    "            C[1][1] += a2.dot(a2)\n",
    "            X[0] += a1.dot(tmp)\n",
    "            X[1] += a2.dot(tmp)\n",
    "\n",
    "        # Compute the determinants of C and X\n",
    "        detC0C1 = C[0][0] * C[1][1] - C[1][0] * C[0][1]\n",
    "        if abs(detC0C1) > epsilon:\n",
    "            # Kramer's rule\n",
    "            detC0X = C[0][0] * X[1] - C[1][0] * X[0]\n",
    "            detXC1 = X[0] * C[1][1] - X[1] * C[0][1]\n",
    "            # Derive alpha values\n",
    "            alpha1 = detXC1 / detC0C1\n",
    "            alpha2 = detC0X / detC0C1\n",
    "        else:\n",
    "            # Matrix is under-determined, try assuming alpha1 == alpha2\n",
    "            c0 = C[0][0] + C[0][1]\n",
    "            c1 = C[1][0] + C[1][1]\n",
    "            if abs(c0) > epsilon:\n",
    "                alpha1 = alpha2 = X[0] / c0\n",
    "            elif abs(c1) > epsilon:\n",
    "                alpha1 = alpha2 = X[1] / c1\n",
    "            else:\n",
    "                # Handle below\n",
    "                alpha1 = alpha2 = 0\n",
    "\n",
    "        # If alpha negative, use the Wu/Barsky heuristic (see text)\n",
    "        # (if alpha is 0, you get coincident control points that lead to\n",
    "        # divide by zero in any subsequent NewtonRaphsonRootFind() call.\n",
    "        segLength = pt2.getDistance(pt1)\n",
    "        epsilon *= segLength\n",
    "        if alpha1 < epsilon or alpha2 < epsilon:\n",
    "            # fall back on standard (probably inaccurate) formula,\n",
    "            # and subdivide further if needed.\n",
    "            alpha1 = alpha2 = segLength / 3\n",
    "\n",
    "        # First and last control points of the Bezier curve are\n",
    "        # positioned exactly at the first and last data points\n",
    "        # Control points 1 and 2 are positioned an alpha distance out\n",
    "        # on the tangent vectors, left and right, respectively\n",
    "        return [pt1, pt1.add(tan1.normalize(alpha1)),\n",
    "                pt2.add(tan2.normalize(alpha2)), pt2]\n",
    "\n",
    "    # Given set of points and their parameterization, try to find\n",
    "    # a better parameterization.\n",
    "    def reparameterize(self, first, last, u, curve):\n",
    "        for i in range(first, last + 1):\n",
    "            u[i - first] = self.findRoot(curve, self.points[i], u[i - first])\n",
    "\n",
    "    # Use Newton-Raphson iteration to find better root.\n",
    "    def findRoot(self, curve, point, u):\n",
    "        # Generate control vertices for Q'\n",
    "        curve1 = [\n",
    "            curve[i + 1].subtract(curve[i]).multiply(3) for i in range(3)]\n",
    "        # Generate control vertices for Q''\n",
    "        curve2 = [\n",
    "            curve1[i + 1].subtract(curve1[i]).multiply(2) for i in range(2)]\n",
    "        # Compute Q(u), Q'(u) and Q''(u)\n",
    "        pt = self.evaluate(3, curve, u)\n",
    "        pt1 = self.evaluate(2, curve1, u)\n",
    "        pt2 = self.evaluate(1, curve2, u)\n",
    "        diff = pt - point\n",
    "        df = pt1.dot(pt1) + diff.dot(pt2)\n",
    "        # Compute f(u) / f'(u)\n",
    "        if abs(df) < TOLERANCE:\n",
    "            return u\n",
    "        # u = u - f(u) / f'(u)\n",
    "        return u - diff.dot(pt1) / df\n",
    "\n",
    "    # Evaluate a bezier curve at a particular parameter value\n",
    "    def evaluate(self, degree, curve, t):\n",
    "        # Copy array\n",
    "        tmp = curve[:]\n",
    "        # Triangle computation\n",
    "        for i in range(1, degree + 1):\n",
    "            for j in range(degree - i + 1):\n",
    "                tmp[j] = tmp[j].multiply(1 - t) + tmp[j + 1].multiply(t)\n",
    "        return tmp[0]\n",
    "\n",
    "    # Assign parameter values to digitized points\n",
    "    # using relative distances between points.\n",
    "    def chordLengthParameterize(self, first, last):\n",
    "        u = {0: 0}\n",
    "        print(first, last)\n",
    "        for i in range(first + 1, last + 1):\n",
    "            u[i - first] = u[i - first - 1] + \\\n",
    "                self.points[i].getDistance(self.points[i - 1])\n",
    "        m = last - first\n",
    "        for i in range(1, m + 1):\n",
    "            u[i] /= u[m]\n",
    "        return u\n",
    "\n",
    "    # Find the maximum squared distance of digitized points to fitted curve.\n",
    "    def findMaxError(self, first, last, curve, u):\n",
    "        index = math.floor((last - first + 1) / 2)\n",
    "        maxDist = 0\n",
    "        for i in range(first + 1, last):\n",
    "            P = self.evaluate(3, curve, u[i - first])\n",
    "            v = P.subtract(self.points[i])\n",
    "            dist = v.x * v.x + v.y * v.y  # squared\n",
    "            if dist >= maxDist:\n",
    "                maxDist = dist\n",
    "                index = i\n",
    "        return maxDist, index\n",
    "\n",
    "\n",
    "def fitpath(pointlist, error):\n",
    "    return PathFitter(list(map(Segment, map(Point, pointlist))), error).fit()\n",
    "\n",
    "\n",
    "def fitpathsvg(pointlist, error):\n",
    "    return pathtosvg(PathFitter(list(map(Segment, map(Point, pointlist))), error).fit())\n",
    "\n",
    "\n",
    "def pathtosvg(path):\n",
    "    segs = ['M', str(path[0].point)]\n",
    "    last = path[0]\n",
    "    for seg in path[1:]:\n",
    "        segs.append('C')\n",
    "        segs.append(str(last.point + last.handleOut))\n",
    "        segs.append(str(seg.point + seg.handleIn))\n",
    "        segs.append(str(seg.point))\n",
    "        last = seg\n",
    "    return ' '.join(segs)\n",
    "\n",
    "\n",
    "if __name__ == '__main__':\n",
    "    p = ans\n",
    "    pf = fitpath(p, 2.5)\n",
    "    print(pf)\n",
    "    sp = pathtosvg(pf)\n",
    "    print(sp)"
   ]
  },
  {
   "cell_type": "code",
   "execution_count": 13,
   "metadata": {},
   "outputs": [],
   "source": [
    "d = np.where(mat==0)"
   ]
  },
  {
   "cell_type": "code",
   "execution_count": 14,
   "metadata": {},
   "outputs": [],
   "source": [
    "import bezier"
   ]
  },
  {
   "cell_type": "code",
   "execution_count": 15,
   "metadata": {},
   "outputs": [],
   "source": [
    "d = np.asfortranarray(d)"
   ]
  },
  {
   "cell_type": "code",
   "execution_count": 16,
   "metadata": {},
   "outputs": [],
   "source": [
    "d = d.astype('double')"
   ]
  },
  {
   "cell_type": "code",
   "execution_count": 27,
   "metadata": {},
   "outputs": [],
   "source": [
    "curve1 = bezier.Curve(d, degree=12)"
   ]
  },
  {
   "cell_type": "code",
   "execution_count": 42,
   "metadata": {},
   "outputs": [],
   "source": [
    "nodes2 = np.asfortranarray([\n",
    "...     [1.0, -1.0,  0.0, 0.0],\n",
    "...     [0.0, 0.0 , 1.0, -1.0],\n",
    "... ]).astype('double')"
   ]
  },
  {
   "cell_type": "code",
   "execution_count": 43,
   "metadata": {},
   "outputs": [],
   "source": [
    "curve2 = bezier.Curve.from_nodes(nodes2)"
   ]
  },
  {
   "cell_type": "code",
   "execution_count": null,
   "metadata": {},
   "outputs": [],
   "source": [
    "intersections = curve1.intersect(curve2)"
   ]
  },
  {
   "cell_type": "code",
   "execution_count": 28,
   "metadata": {},
   "outputs": [
    {
     "data": {
      "text/plain": [
       "<Curve (degree=12, dimension=2)>"
      ]
     },
     "execution_count": 28,
     "metadata": {},
     "output_type": "execute_result"
    }
   ],
   "source": [
    "curve1"
   ]
  },
  {
   "cell_type": "code",
   "execution_count": 45,
   "metadata": {},
   "outputs": [
    {
     "data": {
      "image/png": "[encoded data removed]",
      "text/plain": [
       "<Figure size 432x288 with 1 Axes>"
      ]
     },
     "metadata": {
      "needs_background": "light"
     },
     "output_type": "display_data"
    }
   ],
   "source": [
    "ax = curve2.plot(num_pts=256)"
   ]
  },
  {
   "cell_type": "code",
   "execution_count": 46,
   "metadata": {},
   "outputs": [
    {
     "data": {
      "text/plain": [
       "<Curve (degree=3, dimension=2)>"
      ]
     },
     "execution_count": 46,
     "metadata": {},
     "output_type": "execute_result"
    }
   ],
   "source": [
    "curve2"
   ]
  },
  {
   "cell_type": "code",
   "execution_count": 25,
   "metadata": {},
   "outputs": [
    {
     "data": {
      "text/plain": [
       "(2, 434891)"
      ]
     },
     "execution_count": 25,
     "metadata": {},
     "output_type": "execute_result"
    }
   ],
   "source": [
    "d.shape"
   ]
  },
  {
   "cell_type": "code",
   "execution_count": 32,
   "metadata": {},
   "outputs": [
    {
     "data": {
      "text/plain": [
       "<matplotlib.collections.PathCollection at 0x2401c993b88>"
      ]
     },
     "execution_count": 32,
     "metadata": {},
     "output_type": "execute_result"
    },
    {
     "data": {
      "image/png": "[encoded data removed]",
      "text/plain": [
       "<Figure size 432x288 with 1 Axes>"
      ]
     },
     "metadata": {
      "needs_background": "light"
     },
     "output_type": "display_data"
    }
   ],
   "source": [
    "plt.scatter(d[1], d[0])"
   ]
  },
  {
   "cell_type": "code",
   "execution_count": null,
   "metadata": {},
   "outputs": [],
   "source": []
  }
 ],
 "metadata": {
  "kernelspec": {
   "display_name": "Python 3",
   "language": "python",
   "name": "python3"
  },
  "language_info": {
   "codemirror_mode": {
    "name": "ipython",
    "version": 3
   },
   "file_extension": ".py",
   "mimetype": "text/x-python",
   "name": "python",
   "nbconvert_exporter": "python",
   "pygments_lexer": "ipython3",
   "version": "3.7.4"
  }
 },
 "nbformat": 4,
 "nbformat_minor": 2
}
