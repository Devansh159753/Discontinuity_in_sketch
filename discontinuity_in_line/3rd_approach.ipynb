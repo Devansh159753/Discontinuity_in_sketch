{
 "cells": [
  {
   "cell_type": "code",
   "execution_count": 109,
   "metadata": {},
   "outputs": [],
   "source": [
    "import bezier\n",
    "import numpy as np\n",
    "import cv2\n",
    "import matplotlib.pyplot as plt"
   ]
  },
  {
   "cell_type": "code",
   "execution_count": 110,
   "metadata": {},
   "outputs": [],
   "source": [
    "img = cv2.imread('A0005-_1_.jpg',0)\n",
    "img = cv2.medianBlur(img,5)\n",
    "ret,image = cv2.threshold(img,127,255,cv2.THRESH_BINARY)"
   ]
  },
  {
   "cell_type": "code",
   "execution_count": 111,
   "metadata": {},
   "outputs": [],
   "source": [
    "cv2.imwrite('binary.jpg', image)\n",
    "image = image/255.0"
   ]
  },
  {
   "cell_type": "code",
   "execution_count": 112,
   "metadata": {},
   "outputs": [
    {
     "data": {
      "text/plain": [
       "(3378, 5200)"
      ]
     },
     "execution_count": 112,
     "metadata": {},
     "output_type": "execute_result"
    }
   ],
   "source": [
    "image.shape"
   ]
  },
  {
   "cell_type": "code",
   "execution_count": 113,
   "metadata": {},
   "outputs": [],
   "source": [
    "image = 1 - image"
   ]
  },
  {
   "cell_type": "code",
   "execution_count": 114,
   "metadata": {},
   "outputs": [],
   "source": [
    "from skimage.morphology import skeletonize, thin\n",
    "\n",
    "skeleton = skeletonize(image)\n",
    "thinned = thin(image)\n",
    "#thinned_partial = thin(image, max_iter=25)\n",
    "\n"
   ]
  },
  {
   "cell_type": "code",
   "execution_count": 88,
   "metadata": {},
   "outputs": [
    {
     "data": {
      "text/plain": [
       "array([[False, False, False, ..., False, False, False],\n",
       "       [False, False, False, ..., False, False, False],\n",
       "       [False, False, False, ..., False, False, False],\n",
       "       ...,\n",
       "       [False, False, False, ..., False, False, False],\n",
       "       [False, False, False, ..., False, False, False],\n",
       "       [False, False, False, ..., False, False, False]])"
      ]
     },
     "execution_count": 88,
     "metadata": {},
     "output_type": "execute_result"
    }
   ],
   "source": [
    "skeleton"
   ]
  },
  {
   "cell_type": "code",
   "execution_count": 140,
   "metadata": {},
   "outputs": [
    {
     "data": {
      "text/plain": [
       "(3378, 5200)"
      ]
     },
     "execution_count": 140,
     "metadata": {},
     "output_type": "execute_result"
    }
   ],
   "source": [
    "thinned.shape"
   ]
  },
  {
   "cell_type": "code",
   "execution_count": 115,
   "metadata": {},
   "outputs": [],
   "source": [
    "skeleton=255-skeleton*255\n",
    "thinned=255-thinned*255"
   ]
  },
  {
   "cell_type": "code",
   "execution_count": 116,
   "metadata": {},
   "outputs": [
    {
     "data": {
      "text/plain": [
       "True"
      ]
     },
     "execution_count": 116,
     "metadata": {},
     "output_type": "execute_result"
    }
   ],
   "source": [
    "cv2.imwrite('skeleton.jpg', skeleton)\n",
    "cv2.imwrite('thinned.jpg', thinned)"
   ]
  },
  {
   "cell_type": "code",
   "execution_count": 156,
   "metadata": {},
   "outputs": [],
   "source": [
    "mask = np.ones((3,3))"
   ]
  },
  {
   "cell_type": "code",
   "execution_count": 157,
   "metadata": {},
   "outputs": [
    {
     "data": {
      "text/plain": [
       "array([[1., 1., 1.],\n",
       "       [1., 1., 1.],\n",
       "       [1., 1., 1.]])"
      ]
     },
     "execution_count": 157,
     "metadata": {},
     "output_type": "execute_result"
    }
   ],
   "source": [
    "mask"
   ]
  },
  {
   "cell_type": "code",
   "execution_count": 119,
   "metadata": {},
   "outputs": [],
   "source": [
    "ep = cv2.filter2D(skeleton/255.0, -1, mask)\n",
    "ep2 = cv2.filter2D(thinned/255.0, -1, mask)"
   ]
  },
  {
   "cell_type": "code",
   "execution_count": 120,
   "metadata": {},
   "outputs": [],
   "source": [
    "d=np.where(ep==7)\n",
    "d2=np.where(ep2==7)"
   ]
  },
  {
   "cell_type": "code",
   "execution_count": 96,
   "metadata": {},
   "outputs": [],
   "source": [
    "img1 = cv2.imread('A0005-_1_.jpg')"
   ]
  },
  {
   "cell_type": "code",
   "execution_count": 97,
   "metadata": {},
   "outputs": [],
   "source": [
    "img2 = cv2.imread('skeleton.jpg')"
   ]
  },
  {
   "cell_type": "code",
   "execution_count": 98,
   "metadata": {},
   "outputs": [
    {
     "data": {
      "text/plain": [
       "array([255, 255, 255], dtype=uint8)"
      ]
     },
     "execution_count": 98,
     "metadata": {},
     "output_type": "execute_result"
    }
   ],
   "source": [
    "img2[0][0]"
   ]
  },
  {
   "cell_type": "code",
   "execution_count": 138,
   "metadata": {},
   "outputs": [],
   "source": [
    "ans1=[]\n",
    "for i in range(len(d[0])):\n",
    "    if skeleton[d[0][i]][d[1][i]]==0:\n",
    "        ans1.append([d[0][i], d[1][i]])"
   ]
  },
  {
   "cell_type": "code",
   "execution_count": 143,
   "metadata": {},
   "outputs": [],
   "source": [
    "ans2=[]\n",
    "for i in range(len(d2[0])):\n",
    "    if thinned[d2[0][i]][d2[1][i]]==0:\n",
    "        ans2.append([d2[0][i], d2[1][i]])"
   ]
  },
  {
   "cell_type": "code",
   "execution_count": 80,
   "metadata": {},
   "outputs": [
    {
     "data": {
      "text/plain": [
       "True"
      ]
     },
     "execution_count": 80,
     "metadata": {},
     "output_type": "execute_result"
    }
   ],
   "source": [
    "cv2.imwrite('rr.jpg', img2)"
   ]
  },
  {
   "cell_type": "code",
   "execution_count": 104,
   "metadata": {},
   "outputs": [],
   "source": [
    "l=[]\n",
    "for i in range(3378):\n",
    "    for j in range(5200):\n",
    "        if img2[i][j][0]==0 and img2[i][j][1]==0 and img2[i][j][2]==255:\n",
    "            l.append([i,j])"
   ]
  },
  {
   "cell_type": "code",
   "execution_count": 107,
   "metadata": {},
   "outputs": [],
   "source": [
    "l=np.asarray(l)"
   ]
  },
  {
   "cell_type": "code",
   "execution_count": 145,
   "metadata": {},
   "outputs": [],
   "source": [
    "np.save('l2.npy', ans2)"
   ]
  },
  {
   "cell_type": "code",
   "execution_count": 124,
   "metadata": {},
   "outputs": [
    {
     "data": {
      "text/plain": [
       "33989"
      ]
     },
     "execution_count": 124,
     "metadata": {},
     "output_type": "execute_result"
    }
   ],
   "source": [
    "len(d2[0])"
   ]
  },
  {
   "cell_type": "code",
   "execution_count": 126,
   "metadata": {},
   "outputs": [
    {
     "data": {
      "text/plain": [
       "(3378, 5200)"
      ]
     },
     "execution_count": 126,
     "metadata": {},
     "output_type": "execute_result"
    }
   ],
   "source": [
    "skeleton.shape"
   ]
  },
  {
   "cell_type": "code",
   "execution_count": 141,
   "metadata": {},
   "outputs": [
    {
     "data": {
      "text/plain": [
       "334"
      ]
     },
     "execution_count": 141,
     "metadata": {},
     "output_type": "execute_result"
    }
   ],
   "source": [
    "len(ans1)"
   ]
  },
  {
   "cell_type": "code",
   "execution_count": 144,
   "metadata": {},
   "outputs": [
    {
     "data": {
      "text/plain": [
       "341"
      ]
     },
     "execution_count": 144,
     "metadata": {},
     "output_type": "execute_result"
    }
   ],
   "source": [
    "len(ans2)"
   ]
  },
  {
   "cell_type": "code",
   "execution_count": 147,
   "metadata": {},
   "outputs": [],
   "source": [
    "img2 = cv2.imread('skeleton.jpg')\n",
    "img3 = cv2.imread('thinned.jpg')"
   ]
  },
  {
   "cell_type": "code",
   "execution_count": 149,
   "metadata": {},
   "outputs": [],
   "source": [
    "for i in range(len(ans1)):\n",
    "    img2[ans1[i][0]][ans1[i][1]]=[0,0,255]"
   ]
  },
  {
   "cell_type": "code",
   "execution_count": 150,
   "metadata": {},
   "outputs": [],
   "source": [
    "for i in range(len(ans2)):\n",
    "    img3[ans2[i][0]][ans2[i][1]]=[0,0,255]"
   ]
  },
  {
   "cell_type": "code",
   "execution_count": 151,
   "metadata": {},
   "outputs": [
    {
     "data": {
      "text/plain": [
       "True"
      ]
     },
     "execution_count": 151,
     "metadata": {},
     "output_type": "execute_result"
    }
   ],
   "source": [
    "cv2.imwrite('rr.jpg', img2)\n",
    "cv2.imwrite('rr2.jpg', img2)"
   ]
  },
  {
   "cell_type": "code",
   "execution_count": 244,
   "metadata": {},
   "outputs": [],
   "source": [
    "def func(x, y, img5):\n",
    "    if x!=0 and y!=0:\n",
    "        if img5[x-1][y-1]==0:\n",
    "            return [x-1, y-1]\n",
    "    if x<3377 and y<5199:    \n",
    "        if img5[x+1][y+1]==0:\n",
    "            return [x+1, y+1]\n",
    "    if x!=0:    \n",
    "        if img5[x-1][y]==0:\n",
    "            return [x-1, y]\n",
    "    if x!=0 and y<5199:    \n",
    "        if img5[x-1, y+1]==0:\n",
    "            return [x-1, y+1]\n",
    "    if y!=0:    \n",
    "        if img5[x, y-1]==0:\n",
    "            return [x, y-1]\n",
    "    if y<5199:    \n",
    "        if img5[x, y+1]==0:\n",
    "            return [x, y+1]\n",
    "    if x<3377 and y!=0:    \n",
    "        if img5[x+1, y-1]==0:\n",
    "            return [x+1, y-1]\n",
    "    \n",
    "    if x<3377:\n",
    "        if img5[x+1, y]==0:\n",
    "            return [x+1, y]"
   ]
  },
  {
   "cell_type": "code",
   "execution_count": 245,
   "metadata": {},
   "outputs": [],
   "source": [
    "neighbour=[]\n",
    "for i in range(len(ans1)):\n",
    "    neighbour.append(func(ans1[i][0], ans1[i][1], skeleton))"
   ]
  },
  {
   "cell_type": "code",
   "execution_count": 231,
   "metadata": {},
   "outputs": [],
   "source": [
    "q=func(18, 20, skeleton)"
   ]
  },
  {
   "cell_type": "code",
   "execution_count": 232,
   "metadata": {},
   "outputs": [
    {
     "name": "stdout",
     "output_type": "stream",
     "text": [
      "[19, 19]\n"
     ]
    }
   ],
   "source": [
    "print(q)"
   ]
  },
  {
   "cell_type": "code",
   "execution_count": 241,
   "metadata": {},
   "outputs": [
    {
     "data": {
      "text/plain": [
       "[497, 5144]"
      ]
     },
     "execution_count": 241,
     "metadata": {},
     "output_type": "execute_result"
    }
   ],
   "source": [
    "ans1[7]"
   ]
  },
  {
   "cell_type": "code",
   "execution_count": 203,
   "metadata": {},
   "outputs": [],
   "source": [
    "def func2(x, y, img):\n",
    "    print(img[x-1][y-1])\n",
    "    print(img[x-1][y+1])\n",
    "    print(img[x-1][y])\n",
    "    print(img[x][y-1])\n",
    "    print(img[x][y+1])\n",
    "    print(img[x+1][y-1])\n",
    "    print(img[x+1][y+1])\n",
    "    print(img[x+1][y])\n",
    "    print(img[x-1:x+2, y-1:y+2])\n",
    "    "
   ]
  },
  {
   "cell_type": "code",
   "execution_count": 243,
   "metadata": {},
   "outputs": [
    {
     "name": "stdout",
     "output_type": "stream",
     "text": [
      "255\n",
      "255\n",
      "255\n",
      "255\n",
      "0\n",
      "255\n",
      "255\n",
      "255\n",
      "[[255 255 255]\n",
      " [255   0   0]\n",
      " [255 255 255]]\n"
     ]
    }
   ],
   "source": [
    "func2(497, 5144, skeleton)"
   ]
  },
  {
   "cell_type": "code",
   "execution_count": 209,
   "metadata": {},
   "outputs": [],
   "source": [
    "func(18, 20, skeleton)\n",
    "x,y=18,20"
   ]
  },
  {
   "cell_type": "code",
   "execution_count": 211,
   "metadata": {},
   "outputs": [
    {
     "data": {
      "text/plain": [
       "0"
      ]
     },
     "execution_count": 211,
     "metadata": {},
     "output_type": "execute_result"
    }
   ],
   "source": [
    "skeleton[x+1, y-1]"
   ]
  },
  {
   "cell_type": "code",
   "execution_count": 220,
   "metadata": {},
   "outputs": [],
   "source": [
    "t=1\n",
    "p=3\n",
    "def func3():\n",
    "    if t==1:\n",
    "        if p==2:\n",
    "            return 9\n",
    "    elif t==2:\n",
    "        if p==2:\n",
    "            return 10\n",
    "    elif t==3:\n",
    "        if p==3:\n",
    "            return 11\n",
    "    elif t==1:\n",
    "        if p==3:\n",
    "            return 12\n",
    "    else:\n",
    "        return 13"
   ]
  },
  {
   "cell_type": "code",
   "execution_count": 221,
   "metadata": {},
   "outputs": [],
   "source": [
    "func3()"
   ]
  },
  {
   "cell_type": "code",
   "execution_count": 246,
   "metadata": {},
   "outputs": [
    {
     "data": {
      "text/plain": [
       "[[19, 19],\n",
       " [394, 315],\n",
       " [394, 315],\n",
       " [440, 595],\n",
       " [440, 595],\n",
       " [446, 594],\n",
       " [447, 594],\n",
       " [497, 5145],\n",
       " [497, 5145],\n",
       " [507, 4914],\n",
       " [506, 4913],\n",
       " [532, 963],\n",
       " [531, 964],\n",
       " [563, 1206],\n",
       " [562, 1205],\n",
       " [608, 3400],\n",
       " [612, 3414],\n",
       " [615, 2917],\n",
       " [618, 2903],\n",
       " [618, 2903],\n",
       " [619, 3447],\n",
       " [623, 2876],\n",
       " [622, 3453],\n",
       " [633, 2824],\n",
       " [633, 3500],\n",
       " [636, 2819],\n",
       " [636, 3509],\n",
       " [644, 2769],\n",
       " [651, 2730],\n",
       " [651, 2730],\n",
       " [654, 2713],\n",
       " [653, 2714],\n",
       " [657, 2698],\n",
       " [657, 2696],\n",
       " [661, 2683],\n",
       " [668, 2645],\n",
       " [672, 2628],\n",
       " [688, 2309],\n",
       " [688, 2309],\n",
       " [707, 2481],\n",
       " [722, 2403],\n",
       " [722, 2398],\n",
       " [726, 2376],\n",
       " [732, 2345],\n",
       " [736, 2329],\n",
       " [740, 1005],\n",
       " [740, 1005],\n",
       " [778, 1952],\n",
       " [820, 2856],\n",
       " [832, 2838],\n",
       " [839, 2830],\n",
       " [863, 2844],\n",
       " [869, 2841],\n",
       " [887, 3841],\n",
       " [895, 3847],\n",
       " [928, 3847],\n",
       " [935, 3851],\n",
       " [949, 3812],\n",
       " [949, 3812],\n",
       " [958, 3840],\n",
       " [976, 755],\n",
       " [976, 755],\n",
       " [991, 2197],\n",
       " [999, 2190],\n",
       " [1005, 2185],\n",
       " [1013, 2179],\n",
       " [1049, 3730],\n",
       " [1051, 3732],\n",
       " [1063, 3663],\n",
       " [1066, 2140],\n",
       " [1073, 2133],\n",
       " [1082, 3648],\n",
       " [1085, 3676],\n",
       " [1090, 3653],\n",
       " [1100, 2184],\n",
       " [1103, 3349],\n",
       " [1111, 2123],\n",
       " [1120, 3380],\n",
       " [1121, 3329],\n",
       " [1124, 3381],\n",
       " [1126, 2152],\n",
       " [1130, 2174],\n",
       " [1132, 3334],\n",
       " [1195, 2452],\n",
       " [1213, 2507],\n",
       " [1220, 2444],\n",
       " [1227, 2502],\n",
       " [1233, 585],\n",
       " [1241, 575],\n",
       " [1304, 3826],\n",
       " [1324, 1796],\n",
       " [1329, 1477],\n",
       " [1328, 1478],\n",
       " [1336, 2704],\n",
       " [1336, 1789],\n",
       " [1345, 3418],\n",
       " [1386, 2395],\n",
       " [1386, 2395],\n",
       " [1412, 2669],\n",
       " [1419, 2665],\n",
       " [1430, 3841],\n",
       " [1435, 3844],\n",
       " [1436, 4132],\n",
       " [1462, 4190],\n",
       " [1483, 2394],\n",
       " [1487, 2603],\n",
       " [1488, 2119],\n",
       " [1496, 2116],\n",
       " [1497, 2340],\n",
       " [1500, 4137],\n",
       " [1515, 1773],\n",
       " [1514, 1774],\n",
       " [1520, 2659],\n",
       " [1523, 2666],\n",
       " [1534, 3443],\n",
       " [1547, 2341],\n",
       " [1547, 4192],\n",
       " [1552, 2699],\n",
       " [1556, 2703],\n",
       " [1559, 4172],\n",
       " [1566, 2715],\n",
       " [1567, 2621],\n",
       " [1571, 2338],\n",
       " [1570, 3367],\n",
       " [1574, 4171],\n",
       " [1574, 2336],\n",
       " [1576, 2727],\n",
       " [1584, 2327],\n",
       " [1582, 2733],\n",
       " [1584, 2665],\n",
       " [1586, 2670],\n",
       " [1586, 2325],\n",
       " [1587, 2741],\n",
       " [1591, 2679],\n",
       " [1600, 2310],\n",
       " [1599, 2311],\n",
       " [1603, 2700],\n",
       " [1605, 2704],\n",
       " [1607, 2664],\n",
       " [1608, 2304],\n",
       " [1608, 2344],\n",
       " [1611, 2686],\n",
       " [1617, 2724],\n",
       " [1620, 3116],\n",
       " [1626, 3050],\n",
       " [1627, 3465],\n",
       " [1632, 3376],\n",
       " [1635, 3469],\n",
       " [1647, 3171],\n",
       " [1675, 2873],\n",
       " [1691, 3125],\n",
       " [1697, 3115],\n",
       " [1700, 3111],\n",
       " [1701, 2879],\n",
       " [1716, 2865],\n",
       " [1725, 2636],\n",
       " [1760, 3808],\n",
       " [1765, 2161],\n",
       " [1764, 3094],\n",
       " [1765, 2161],\n",
       " [1769, 3805],\n",
       " [1808, 3047],\n",
       " [1909, 2852],\n",
       " [1910, 2355],\n",
       " [1914, 3791],\n",
       " [1917, 3796],\n",
       " [1923, 2844],\n",
       " [1927, 2358],\n",
       " [1998, 5199],\n",
       " [2000, 3514],\n",
       " [2018, 3971],\n",
       " [2017, 3972],\n",
       " [2060, 2366],\n",
       " [2069, 2369],\n",
       " [2171, 3155],\n",
       " [2174, 3444],\n",
       " [2180, 3441],\n",
       " [2207, 5199],\n",
       " [2260, 2391],\n",
       " [2266, 2394],\n",
       " [2274, 3480],\n",
       " [2291, 3483],\n",
       " [2315, 2464],\n",
       " [2430, 2466],\n",
       " [2433, 3605],\n",
       " [2441, 2466],\n",
       " [2458, 3066],\n",
       " [2461, 3061],\n",
       " [2494, 3100],\n",
       " [2494, 3105],\n",
       " [2494, 3114],\n",
       " [2494, 3135],\n",
       " [2558, 3044],\n",
       " [2569, 3208],\n",
       " [2574, 3208],\n",
       " [2583, 3080],\n",
       " [2588, 3083],\n",
       " [2622, 2487],\n",
       " [2640, 5199],\n",
       " [2640, 3576],\n",
       " [2650, 3032],\n",
       " [2658, 2763],\n",
       " [2661, 2758],\n",
       " [2673, 2675],\n",
       " [2676, 5199],\n",
       " [2697, 3703],\n",
       " [2701, 5199],\n",
       " [2713, 2732],\n",
       " [2727, 2573],\n",
       " [2728, 3450],\n",
       " [2734, 2654],\n",
       " [2752, 2701],\n",
       " [2762, 3475],\n",
       " [2767, 3485],\n",
       " [2788, 2889],\n",
       " [2793, 3377],\n",
       " [2799, 1030],\n",
       " [2810, 1033],\n",
       " [2811, 2943],\n",
       " [2844, 2719],\n",
       " [2860, 2716],\n",
       " [2875, 3072],\n",
       " [2919, 3382],\n",
       " [2920, 3159],\n",
       " [2922, 3376],\n",
       " [2932, 3352],\n",
       " [2936, 3344],\n",
       " [2969, 3466],\n",
       " [2972, 3459],\n",
       " [3012, 2922],\n",
       " [3121, 3741],\n",
       " [3127, 3744],\n",
       " [3145, 2913],\n",
       " [3151, 2908],\n",
       " [3158, 2904],\n",
       " [3189, 2940],\n",
       " [3196, 2944],\n",
       " [3217, 2951],\n",
       " [3241, 3083],\n",
       " [3246, 3080],\n",
       " [3294, 5154],\n",
       " [3304, 5137],\n",
       " [3305, 3069],\n",
       " [3313, 3066],\n",
       " [3319, 3840],\n",
       " [3325, 3065],\n",
       " [3330, 5105],\n",
       " [3329, 2514],\n",
       " [3334, 1836],\n",
       " [3334, 2928],\n",
       " [3338, 1160],\n",
       " [3342, 2522],\n",
       " [3341, 3837],\n",
       " [3342, 2550],\n",
       " [3345, 174],\n",
       " [3344, 1053],\n",
       " [3346, 1468],\n",
       " [3347, 3934],\n",
       " [3349, 5189],\n",
       " [3350, 2241],\n",
       " [3350, 3365],\n",
       " [3352, 2505],\n",
       " [3352, 2753],\n",
       " [3354, 1472],\n",
       " [3354, 1635],\n",
       " [3357, 2280],\n",
       " [3356, 4297],\n",
       " [3357, 2280],\n",
       " [3358, 2531],\n",
       " [3361, 587],\n",
       " [3361, 587],\n",
       " [3362, 1019],\n",
       " [3363, 504],\n",
       " [3364, 645],\n",
       " [3364, 759],\n",
       " [3363, 826],\n",
       " [3364, 900],\n",
       " [3364, 902],\n",
       " [3363, 916],\n",
       " [3362, 1019],\n",
       " [3363, 1195],\n",
       " [3363, 1195],\n",
       " [3364, 1220],\n",
       " [3364, 1265],\n",
       " [3364, 1350],\n",
       " [3363, 644],\n",
       " [3365, 1055],\n",
       " [3363, 1349],\n",
       " [3366, 261],\n",
       " [3364, 504],\n",
       " [3364, 759],\n",
       " [3364, 827],\n",
       " [3364, 914],\n",
       " [3364, 1220],\n",
       " [3364, 1264],\n",
       " [3364, 5146],\n",
       " [3367, 251],\n",
       " [3367, 801],\n",
       " [3365, 1055],\n",
       " [3366, 1401],\n",
       " [3368, 103],\n",
       " [3366, 802],\n",
       " [3369, 239],\n",
       " [3367, 1400],\n",
       " [3369, 901],\n",
       " [3372, 809],\n",
       " [3372, 809],\n",
       " [3372, 1184],\n",
       " [3372, 1184],\n",
       " [3374, 387],\n",
       " [3376, 381],\n",
       " [3377, 373],\n",
       " [3377, 462],\n",
       " [3377, 462],\n",
       " [3377, 540],\n",
       " [3377, 540],\n",
       " [3377, 781],\n",
       " [3377, 820],\n",
       " [3377, 820],\n",
       " [3377, 837],\n",
       " [3377, 837],\n",
       " [3377, 1054],\n",
       " [3377, 1054],\n",
       " [3377, 1140],\n",
       " [3377, 1240],\n",
       " [3377, 1240],\n",
       " [3377, 1251],\n",
       " [3377, 1251],\n",
       " [3377, 1301],\n",
       " [3377, 1301],\n",
       " [3377, 1720],\n",
       " [3377, 1720],\n",
       " [3377, 1734],\n",
       " [3377, 1734]]"
      ]
     },
     "execution_count": 246,
     "metadata": {},
     "output_type": "execute_result"
    }
   ],
   "source": [
    "neighbour"
   ]
  },
  {
   "cell_type": "code",
   "execution_count": 247,
   "metadata": {},
   "outputs": [],
   "source": [
    "np.save('neighbour.npy', neighbour)"
   ]
  },
  {
   "cell_type": "code",
   "execution_count": 250,
   "metadata": {},
   "outputs": [],
   "source": [
    "slope=[]\n",
    "for i in range(len(ans1)):\n",
    "    numerator=float(ans1[i][1]-neighbour[i][1])\n",
    "    denominator=float(ans1[i][0]-neighbour[i][0])\n",
    "    if denominator==0:\n",
    "        slope.append(1000000000)\n",
    "    else:\n",
    "        slope.append(numerator/denominator)"
   ]
  },
  {
   "cell_type": "code",
   "execution_count": 252,
   "metadata": {},
   "outputs": [],
   "source": [
    "np.save('slope.npy', slope)"
   ]
  },
  {
   "cell_type": "code",
   "execution_count": null,
   "metadata": {},
   "outputs": [],
   "source": []
  }
 ],
 "metadata": {
  "kernelspec": {
   "display_name": "Python 3",
   "language": "python",
   "name": "python3"
  },
  "language_info": {
   "codemirror_mode": {
    "name": "ipython",
    "version": 3
   },
   "file_extension": ".py",
   "mimetype": "text/x-python",
   "name": "python",
   "nbconvert_exporter": "python",
   "pygments_lexer": "ipython3",
   "version": "3.7.4"
  }
 },
 "nbformat": 4,
 "nbformat_minor": 2
}
